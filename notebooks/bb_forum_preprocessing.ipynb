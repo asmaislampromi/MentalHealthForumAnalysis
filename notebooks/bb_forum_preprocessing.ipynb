{
 "cells": [
  {
   "cell_type": "code",
   "id": "initial_id",
   "metadata": {
    "collapsed": true,
    "ExecuteTime": {
     "end_time": "2025-08-18T21:11:52.152143Z",
     "start_time": "2025-08-18T21:11:51.274222Z"
    }
   },
   "source": [
    "import pandas as pd\n",
    "\n",
    "# Load the cleaned BB posts and comments data\n",
    "bb_posts = pd.read_csv(\"bb_posts_clean_final.csv\")\n",
    "bb_comments = pd.read_csv(\"bb_comments_clean_final.csv\")\n",
    "\n",
    "print(bb_posts.shape)\n",
    "print(bb_comments.shape)\n",
    "bb_posts.head()\n",
    "bb_comments.head()"
   ],
   "outputs": [
    {
     "name": "stdout",
     "output_type": "stream",
     "text": [
      "(10155, 9)\n",
      "(10146, 8)\n"
     ]
    },
    {
     "data": {
      "text/plain": [
       "           Comment ID  Post ID Category                        Comment Author  \\\n",
       "0  555887_c64bc84efa3   555887  anxiety                               Johnny_   \n",
       "1  581558_caeab9cd1ea   581558  anxiety                                 K-J-S   \n",
       "2  581593_c46908aa953   581593  anxiety  More than my mental health condition   \n",
       "3  581626_ccba749e49f   581626  anxiety              burntlibraryofalexandria   \n",
       "4  581561_c6a4250e0d7   581561  anxiety                                Richju   \n",
       "\n",
       "  Comment Date                                    Comment Content  \\\n",
       "0   01-01-2023  hello everyone, happy new year!im hoping someo...   \n",
       "1   01-01-2024  im wondering if anyone else feels like this? i...   \n",
       "2   01-01-2024  i feel like i need some support from people in...   \n",
       "3   01-01-2024  every year around this time i get a huge exist...   \n",
       "4   01-01-2024  hi everyone,i wonder if anyone has overcome th...   \n",
       "\n",
       "   Comment Support                                           Post URL  \n",
       "0                0  https://forums.beyondblue.org.au/t5/anxiety/mu...  \n",
       "1                1  https://forums.beyondblue.org.au/t5/anxiety/dr...  \n",
       "2                0  https://forums.beyondblue.org.au/t5/anxiety/bu...  \n",
       "3                2  https://forums.beyondblue.org.au/t5/anxiety/sh...  \n",
       "4                1  https://forums.beyondblue.org.au/t5/anxiety/pa...  "
      ],
      "text/html": [
       "<div>\n",
       "<style scoped>\n",
       "    .dataframe tbody tr th:only-of-type {\n",
       "        vertical-align: middle;\n",
       "    }\n",
       "\n",
       "    .dataframe tbody tr th {\n",
       "        vertical-align: top;\n",
       "    }\n",
       "\n",
       "    .dataframe thead th {\n",
       "        text-align: right;\n",
       "    }\n",
       "</style>\n",
       "<table border=\"1\" class=\"dataframe\">\n",
       "  <thead>\n",
       "    <tr style=\"text-align: right;\">\n",
       "      <th></th>\n",
       "      <th>Comment ID</th>\n",
       "      <th>Post ID</th>\n",
       "      <th>Category</th>\n",
       "      <th>Comment Author</th>\n",
       "      <th>Comment Date</th>\n",
       "      <th>Comment Content</th>\n",
       "      <th>Comment Support</th>\n",
       "      <th>Post URL</th>\n",
       "    </tr>\n",
       "  </thead>\n",
       "  <tbody>\n",
       "    <tr>\n",
       "      <th>0</th>\n",
       "      <td>555887_c64bc84efa3</td>\n",
       "      <td>555887</td>\n",
       "      <td>anxiety</td>\n",
       "      <td>Johnny_</td>\n",
       "      <td>01-01-2023</td>\n",
       "      <td>hello everyone, happy new year!im hoping someo...</td>\n",
       "      <td>0</td>\n",
       "      <td>https://forums.beyondblue.org.au/t5/anxiety/mu...</td>\n",
       "    </tr>\n",
       "    <tr>\n",
       "      <th>1</th>\n",
       "      <td>581558_caeab9cd1ea</td>\n",
       "      <td>581558</td>\n",
       "      <td>anxiety</td>\n",
       "      <td>K-J-S</td>\n",
       "      <td>01-01-2024</td>\n",
       "      <td>im wondering if anyone else feels like this? i...</td>\n",
       "      <td>1</td>\n",
       "      <td>https://forums.beyondblue.org.au/t5/anxiety/dr...</td>\n",
       "    </tr>\n",
       "    <tr>\n",
       "      <th>2</th>\n",
       "      <td>581593_c46908aa953</td>\n",
       "      <td>581593</td>\n",
       "      <td>anxiety</td>\n",
       "      <td>More than my mental health condition</td>\n",
       "      <td>01-01-2024</td>\n",
       "      <td>i feel like i need some support from people in...</td>\n",
       "      <td>0</td>\n",
       "      <td>https://forums.beyondblue.org.au/t5/anxiety/bu...</td>\n",
       "    </tr>\n",
       "    <tr>\n",
       "      <th>3</th>\n",
       "      <td>581626_ccba749e49f</td>\n",
       "      <td>581626</td>\n",
       "      <td>anxiety</td>\n",
       "      <td>burntlibraryofalexandria</td>\n",
       "      <td>01-01-2024</td>\n",
       "      <td>every year around this time i get a huge exist...</td>\n",
       "      <td>2</td>\n",
       "      <td>https://forums.beyondblue.org.au/t5/anxiety/sh...</td>\n",
       "    </tr>\n",
       "    <tr>\n",
       "      <th>4</th>\n",
       "      <td>581561_c6a4250e0d7</td>\n",
       "      <td>581561</td>\n",
       "      <td>anxiety</td>\n",
       "      <td>Richju</td>\n",
       "      <td>01-01-2024</td>\n",
       "      <td>hi everyone,i wonder if anyone has overcome th...</td>\n",
       "      <td>1</td>\n",
       "      <td>https://forums.beyondblue.org.au/t5/anxiety/pa...</td>\n",
       "    </tr>\n",
       "  </tbody>\n",
       "</table>\n",
       "</div>"
      ]
     },
     "execution_count": 1,
     "metadata": {},
     "output_type": "execute_result"
    }
   ],
   "execution_count": 1
  },
  {
   "metadata": {
    "ExecuteTime": {
     "end_time": "2025-08-18T21:13:07.389412Z",
     "start_time": "2025-08-18T21:13:07.377179Z"
    }
   },
   "cell_type": "code",
   "source": [
    "print(bb_posts.columns)\n",
    "print(bb_comments.columns)"
   ],
   "id": "6a3eb2726481ed2e",
   "outputs": [
    {
     "name": "stdout",
     "output_type": "stream",
     "text": [
      "Index(['Post ID', 'Category', 'Post Title', 'Post Author', 'Post Date',\n",
      "       'Post Content', 'Support Count', 'Total Number of Comments',\n",
      "       'Post URL'],\n",
      "      dtype='object')\n",
      "Index(['Comment ID', 'Post ID', 'Category', 'Comment Author', 'Comment Date',\n",
      "       'Comment Content', 'Comment Support', 'Post URL'],\n",
      "      dtype='object')\n"
     ]
    }
   ],
   "execution_count": 3
  },
  {
   "metadata": {
    "ExecuteTime": {
     "end_time": "2025-08-18T21:14:01.063077Z",
     "start_time": "2025-08-18T21:13:56.835357Z"
    }
   },
   "cell_type": "code",
   "source": [
    "import re\n",
    "\n",
    "\n",
    "def clean_text(text):\n",
    "    if pd.isnull(text):\n",
    "        return \"\"\n",
    "    # Lowercase\n",
    "    text = text.lower()\n",
    "    # Remove punctuation and special characters (keep only letters and spaces)\n",
    "    text = re.sub(r'[^a-z\\s]', '', text)\n",
    "    # Remove extra spaces\n",
    "    text = re.sub(r'\\s+', ' ', text).strip()\n",
    "    return text\n",
    "\n",
    "\n",
    "# Apply to both posts and comments\n",
    "bb_posts['content_clean'] = bb_posts['Post Content'].apply(clean_text)\n",
    "bb_comments['content_clean'] = bb_comments['Comment Content'].apply(clean_text)\n",
    "\n",
    "# Inspect result\n",
    "print(bb_posts['content_clean'].head())\n",
    "print(bb_comments['content_clean'].head())"
   ],
   "id": "a7dd121fd3a8af38",
   "outputs": [
    {
     "name": "stdout",
     "output_type": "stream",
     "text": [
      "0    hello everyone happy new yearim hoping someone...\n",
      "1    i feel like i need some support from people in...\n",
      "2    im wondering if anyone else feels like this i ...\n",
      "3    every year around this time i get a huge exist...\n",
      "4    hi everyonei wonder if anyone has overcome the...\n",
      "Name: content_clean, dtype: object\n",
      "0    hello everyone happy new yearim hoping someone...\n",
      "1    im wondering if anyone else feels like this i ...\n",
      "2    i feel like i need some support from people in...\n",
      "3    every year around this time i get a huge exist...\n",
      "4    hi everyonei wonder if anyone has overcome the...\n",
      "Name: content_clean, dtype: object\n"
     ]
    }
   ],
   "execution_count": 4
  },
  {
   "metadata": {
    "ExecuteTime": {
     "end_time": "2025-08-18T21:14:51.646130Z",
     "start_time": "2025-08-18T21:14:20.005811Z"
    }
   },
   "cell_type": "code",
   "source": [
    "import nltk\n",
    "\n",
    "nltk.download('punkt')\n",
    "\n",
    "\n",
    "def tokenize_text(text):\n",
    "    # Tokenize the cleaned text into words\n",
    "    return nltk.word_tokenize(text)\n",
    "\n",
    "\n",
    "# Apply to both posts and comments\n",
    "bb_posts['tokens'] = bb_posts['content_clean'].apply(tokenize_text)\n",
    "bb_comments['tokens'] = bb_comments['content_clean'].apply(tokenize_text)\n",
    "\n",
    "# Inspect result\n",
    "print(bb_posts['tokens'].head())\n",
    "print(bb_comments['tokens'].head())"
   ],
   "id": "14887b8c7e120f13",
   "outputs": [
    {
     "name": "stderr",
     "output_type": "stream",
     "text": [
      "[nltk_data] Downloading package punkt to\n",
      "[nltk_data]     C:\\Users\\aipro\\AppData\\Roaming\\nltk_data...\n",
      "[nltk_data]   Package punkt is already up-to-date!\n"
     ]
    },
    {
     "name": "stdout",
     "output_type": "stream",
     "text": [
      "0    [hello, everyone, happy, new, yearim, hoping, ...\n",
      "1    [i, feel, like, i, need, some, support, from, ...\n",
      "2    [im, wondering, if, anyone, else, feels, like,...\n",
      "3    [every, year, around, this, time, i, get, a, h...\n",
      "4    [hi, everyonei, wonder, if, anyone, has, overc...\n",
      "Name: tokens, dtype: object\n",
      "0    [hello, everyone, happy, new, yearim, hoping, ...\n",
      "1    [im, wondering, if, anyone, else, feels, like,...\n",
      "2    [i, feel, like, i, need, some, support, from, ...\n",
      "3    [every, year, around, this, time, i, get, a, h...\n",
      "4    [hi, everyonei, wonder, if, anyone, has, overc...\n",
      "Name: tokens, dtype: object\n"
     ]
    }
   ],
   "execution_count": 5
  },
  {
   "metadata": {
    "ExecuteTime": {
     "end_time": "2025-08-18T21:19:27.348840Z",
     "start_time": "2025-08-18T21:19:27.306854Z"
    }
   },
   "cell_type": "code",
   "source": [
    "# Add token count column\n",
    "\n",
    "bb_posts['token_count'] = bb_posts['tokens'].apply(len)\n",
    "bb_comments['token_count'] = bb_comments['tokens'].apply(len)\n",
    "\n",
    "# Inspect result\n",
    "print(bb_posts[['tokens', 'token_count']].head())\n",
    "print(bb_comments[['tokens', 'token_count']].head())"
   ],
   "id": "c3c71bf704ec1e52",
   "outputs": [
    {
     "name": "stdout",
     "output_type": "stream",
     "text": [
      "                                              tokens  token_count\n",
      "0  [hello, everyone, happy, new, yearim, hoping, ...         1177\n",
      "1  [i, feel, like, i, need, some, support, from, ...         1082\n",
      "2  [im, wondering, if, anyone, else, feels, like,...          826\n",
      "3  [every, year, around, this, time, i, get, a, h...          783\n",
      "4  [hi, everyonei, wonder, if, anyone, has, overc...         1661\n",
      "                                              tokens  token_count\n",
      "0  [hello, everyone, happy, new, yearim, hoping, ...          158\n",
      "1  [im, wondering, if, anyone, else, feels, like,...          246\n",
      "2  [i, feel, like, i, need, some, support, from, ...          189\n",
      "3  [every, year, around, this, time, i, get, a, h...          186\n",
      "4  [hi, everyonei, wonder, if, anyone, has, overc...          105\n"
     ]
    }
   ],
   "execution_count": 6
  },
  {
   "metadata": {
    "ExecuteTime": {
     "end_time": "2025-08-18T21:19:48.173014Z",
     "start_time": "2025-08-18T21:19:47.109918Z"
    }
   },
   "cell_type": "code",
   "source": [
    "import nltk\n",
    "\n",
    "nltk.download('stopwords')\n",
    "from nltk.corpus import stopwords\n",
    "\n",
    "# Get the list of English stopwords\n",
    "stop_words = set(stopwords.words('english'))\n",
    "\n",
    "\n",
    "def remove_stopwords(tokens):\n",
    "    # Remove stop words from a list of tokens\n",
    "    return [word for word in tokens if word not in stop_words]\n",
    "\n",
    "\n",
    "# Apply to both posts and comments\n",
    "bb_posts['tokens_nostop'] = bb_posts['tokens'].apply(remove_stopwords)\n",
    "bb_comments['tokens_nostop'] = bb_comments['tokens'].apply(remove_stopwords)\n",
    "\n",
    "# Inspect result\n",
    "print(bb_posts['tokens_nostop'].head())\n",
    "print(bb_comments['tokens_nostop'].head())"
   ],
   "id": "f1eae30a71a824e3",
   "outputs": [
    {
     "name": "stderr",
     "output_type": "stream",
     "text": [
      "[nltk_data] Downloading package stopwords to\n",
      "[nltk_data]     C:\\Users\\aipro\\AppData\\Roaming\\nltk_data...\n",
      "[nltk_data]   Package stopwords is already up-to-date!\n"
     ]
    },
    {
     "name": "stdout",
     "output_type": "stream",
     "text": [
      "0    [hello, everyone, happy, new, yearim, hoping, ...\n",
      "1    [feel, like, need, support, people, know, fami...\n",
      "2    [im, wondering, anyone, else, feels, like, rea...\n",
      "3    [every, year, around, time, get, huge, existen...\n",
      "4    [hi, everyonei, wonder, anyone, overcome, tend...\n",
      "Name: tokens_nostop, dtype: object\n",
      "0    [hello, everyone, happy, new, yearim, hoping, ...\n",
      "1    [im, wondering, anyone, else, feels, like, rea...\n",
      "2    [feel, like, need, support, people, know, fami...\n",
      "3    [every, year, around, time, get, huge, existen...\n",
      "4    [hi, everyonei, wonder, anyone, overcome, tend...\n",
      "Name: tokens_nostop, dtype: object\n"
     ]
    }
   ],
   "execution_count": 7
  },
  {
   "metadata": {
    "ExecuteTime": {
     "end_time": "2025-08-18T21:20:33.238533Z",
     "start_time": "2025-08-18T21:20:12.056327Z"
    }
   },
   "cell_type": "code",
   "source": [
    "import nltk\n",
    "\n",
    "nltk.download('wordnet')\n",
    "from nltk.stem import WordNetLemmatizer\n",
    "\n",
    "lemmatizer = WordNetLemmatizer()\n",
    "\n",
    "\n",
    "def lemmatize_tokens(tokens):\n",
    "    # Lemmatize each token in the list\n",
    "    return [lemmatizer.lemmatize(token) for token in tokens]\n",
    "\n",
    "\n",
    "# Apply to both posts and comments (after stop word removal)\n",
    "bb_posts['tokens_lemmatized'] = bb_posts['tokens_nostop'].apply(lemmatize_tokens)\n",
    "bb_comments['tokens_lemmatized'] = bb_comments['tokens_nostop'].apply(lemmatize_tokens)\n",
    "\n",
    "# Inspect result\n",
    "print(bb_posts['tokens_lemmatized'].head())\n",
    "print(bb_comments['tokens_lemmatized'].head())"
   ],
   "id": "8f2219f086c6de9e",
   "outputs": [
    {
     "name": "stderr",
     "output_type": "stream",
     "text": [
      "[nltk_data] Downloading package wordnet to\n",
      "[nltk_data]     C:\\Users\\aipro\\AppData\\Roaming\\nltk_data...\n",
      "[nltk_data]   Package wordnet is already up-to-date!\n"
     ]
    },
    {
     "name": "stdout",
     "output_type": "stream",
     "text": [
      "0    [hello, everyone, happy, new, yearim, hoping, ...\n",
      "1    [feel, like, need, support, people, know, fami...\n",
      "2    [im, wondering, anyone, else, feel, like, real...\n",
      "3    [every, year, around, time, get, huge, existen...\n",
      "4    [hi, everyonei, wonder, anyone, overcome, tend...\n",
      "Name: tokens_lemmatized, dtype: object\n",
      "0    [hello, everyone, happy, new, yearim, hoping, ...\n",
      "1    [im, wondering, anyone, else, feel, like, real...\n",
      "2    [feel, like, need, support, people, know, fami...\n",
      "3    [every, year, around, time, get, huge, existen...\n",
      "4    [hi, everyonei, wonder, anyone, overcome, tend...\n",
      "Name: tokens_lemmatized, dtype: object\n"
     ]
    }
   ],
   "execution_count": 8
  },
  {
   "metadata": {
    "ExecuteTime": {
     "end_time": "2025-08-18T21:21:27.884363Z",
     "start_time": "2025-08-18T21:21:19.758573Z"
    }
   },
   "cell_type": "code",
   "source": [
    "# Save processed data\n",
    "\n",
    "bb_posts.to_csv(\"bb_posts_preprocessed.csv\", index=False)\n",
    "bb_comments.to_csv(\"bb_comments_preprocessed.csv\", index=False)"
   ],
   "id": "d9a6a9cf067ff387",
   "outputs": [
    {
     "name": "stdout",
     "output_type": "stream",
     "text": [
      "The history saving thread hit an unexpected error (OperationalError('database or disk is full')).History will not be written to the database.\n"
     ]
    },
    {
     "ename": "OSError",
     "evalue": "[Errno 28] No space left on device",
     "output_type": "error",
     "traceback": [
      "\u001B[31m---------------------------------------------------------------------------\u001B[39m",
      "\u001B[31mOSError\u001B[39m                                   Traceback (most recent call last)",
      "\u001B[36mCell\u001B[39m\u001B[36m \u001B[39m\u001B[32mIn[10]\u001B[39m\u001B[32m, line 4\u001B[39m\n\u001B[32m      1\u001B[39m \u001B[38;5;66;03m# Save processed data\u001B[39;00m\n\u001B[32m      3\u001B[39m bb_posts.to_csv(\u001B[33m\"\u001B[39m\u001B[33mbb_posts_preprocessed.csv\u001B[39m\u001B[33m\"\u001B[39m, index=\u001B[38;5;28;01mFalse\u001B[39;00m)\n\u001B[32m----> \u001B[39m\u001B[32m4\u001B[39m \u001B[43mbb_comments\u001B[49m\u001B[43m.\u001B[49m\u001B[43mto_csv\u001B[49m\u001B[43m(\u001B[49m\u001B[33;43m\"\u001B[39;49m\u001B[33;43mbb_comments_preprocessed.csv\u001B[39;49m\u001B[33;43m\"\u001B[39;49m\u001B[43m,\u001B[49m\u001B[43m \u001B[49m\u001B[43mindex\u001B[49m\u001B[43m=\u001B[49m\u001B[38;5;28;43;01mFalse\u001B[39;49;00m\u001B[43m)\u001B[49m\n",
      "\u001B[36mFile \u001B[39m\u001B[32m~\\PycharmProjects\\PythonProject3\\.venv\\Lib\\site-packages\\pandas\\util\\_decorators.py:333\u001B[39m, in \u001B[36mdeprecate_nonkeyword_arguments.<locals>.decorate.<locals>.wrapper\u001B[39m\u001B[34m(*args, **kwargs)\u001B[39m\n\u001B[32m    327\u001B[39m \u001B[38;5;28;01mif\u001B[39;00m \u001B[38;5;28mlen\u001B[39m(args) > num_allow_args:\n\u001B[32m    328\u001B[39m     warnings.warn(\n\u001B[32m    329\u001B[39m         msg.format(arguments=_format_argument_list(allow_args)),\n\u001B[32m    330\u001B[39m         \u001B[38;5;167;01mFutureWarning\u001B[39;00m,\n\u001B[32m    331\u001B[39m         stacklevel=find_stack_level(),\n\u001B[32m    332\u001B[39m     )\n\u001B[32m--> \u001B[39m\u001B[32m333\u001B[39m \u001B[38;5;28;01mreturn\u001B[39;00m \u001B[43mfunc\u001B[49m\u001B[43m(\u001B[49m\u001B[43m*\u001B[49m\u001B[43margs\u001B[49m\u001B[43m,\u001B[49m\u001B[43m \u001B[49m\u001B[43m*\u001B[49m\u001B[43m*\u001B[49m\u001B[43mkwargs\u001B[49m\u001B[43m)\u001B[49m\n",
      "\u001B[36mFile \u001B[39m\u001B[32m~\\PycharmProjects\\PythonProject3\\.venv\\Lib\\site-packages\\pandas\\core\\generic.py:3986\u001B[39m, in \u001B[36mNDFrame.to_csv\u001B[39m\u001B[34m(self, path_or_buf, sep, na_rep, float_format, columns, header, index, index_label, mode, encoding, compression, quoting, quotechar, lineterminator, chunksize, date_format, doublequote, escapechar, decimal, errors, storage_options)\u001B[39m\n\u001B[32m   3975\u001B[39m df = \u001B[38;5;28mself\u001B[39m \u001B[38;5;28;01mif\u001B[39;00m \u001B[38;5;28misinstance\u001B[39m(\u001B[38;5;28mself\u001B[39m, ABCDataFrame) \u001B[38;5;28;01melse\u001B[39;00m \u001B[38;5;28mself\u001B[39m.to_frame()\n\u001B[32m   3977\u001B[39m formatter = DataFrameFormatter(\n\u001B[32m   3978\u001B[39m     frame=df,\n\u001B[32m   3979\u001B[39m     header=header,\n\u001B[32m   (...)\u001B[39m\u001B[32m   3983\u001B[39m     decimal=decimal,\n\u001B[32m   3984\u001B[39m )\n\u001B[32m-> \u001B[39m\u001B[32m3986\u001B[39m \u001B[38;5;28;01mreturn\u001B[39;00m \u001B[43mDataFrameRenderer\u001B[49m\u001B[43m(\u001B[49m\u001B[43mformatter\u001B[49m\u001B[43m)\u001B[49m\u001B[43m.\u001B[49m\u001B[43mto_csv\u001B[49m\u001B[43m(\u001B[49m\n\u001B[32m   3987\u001B[39m \u001B[43m    \u001B[49m\u001B[43mpath_or_buf\u001B[49m\u001B[43m,\u001B[49m\n\u001B[32m   3988\u001B[39m \u001B[43m    \u001B[49m\u001B[43mlineterminator\u001B[49m\u001B[43m=\u001B[49m\u001B[43mlineterminator\u001B[49m\u001B[43m,\u001B[49m\n\u001B[32m   3989\u001B[39m \u001B[43m    \u001B[49m\u001B[43msep\u001B[49m\u001B[43m=\u001B[49m\u001B[43msep\u001B[49m\u001B[43m,\u001B[49m\n\u001B[32m   3990\u001B[39m \u001B[43m    \u001B[49m\u001B[43mencoding\u001B[49m\u001B[43m=\u001B[49m\u001B[43mencoding\u001B[49m\u001B[43m,\u001B[49m\n\u001B[32m   3991\u001B[39m \u001B[43m    \u001B[49m\u001B[43merrors\u001B[49m\u001B[43m=\u001B[49m\u001B[43merrors\u001B[49m\u001B[43m,\u001B[49m\n\u001B[32m   3992\u001B[39m \u001B[43m    \u001B[49m\u001B[43mcompression\u001B[49m\u001B[43m=\u001B[49m\u001B[43mcompression\u001B[49m\u001B[43m,\u001B[49m\n\u001B[32m   3993\u001B[39m \u001B[43m    \u001B[49m\u001B[43mquoting\u001B[49m\u001B[43m=\u001B[49m\u001B[43mquoting\u001B[49m\u001B[43m,\u001B[49m\n\u001B[32m   3994\u001B[39m \u001B[43m    \u001B[49m\u001B[43mcolumns\u001B[49m\u001B[43m=\u001B[49m\u001B[43mcolumns\u001B[49m\u001B[43m,\u001B[49m\n\u001B[32m   3995\u001B[39m \u001B[43m    \u001B[49m\u001B[43mindex_label\u001B[49m\u001B[43m=\u001B[49m\u001B[43mindex_label\u001B[49m\u001B[43m,\u001B[49m\n\u001B[32m   3996\u001B[39m \u001B[43m    \u001B[49m\u001B[43mmode\u001B[49m\u001B[43m=\u001B[49m\u001B[43mmode\u001B[49m\u001B[43m,\u001B[49m\n\u001B[32m   3997\u001B[39m \u001B[43m    \u001B[49m\u001B[43mchunksize\u001B[49m\u001B[43m=\u001B[49m\u001B[43mchunksize\u001B[49m\u001B[43m,\u001B[49m\n\u001B[32m   3998\u001B[39m \u001B[43m    \u001B[49m\u001B[43mquotechar\u001B[49m\u001B[43m=\u001B[49m\u001B[43mquotechar\u001B[49m\u001B[43m,\u001B[49m\n\u001B[32m   3999\u001B[39m \u001B[43m    \u001B[49m\u001B[43mdate_format\u001B[49m\u001B[43m=\u001B[49m\u001B[43mdate_format\u001B[49m\u001B[43m,\u001B[49m\n\u001B[32m   4000\u001B[39m \u001B[43m    \u001B[49m\u001B[43mdoublequote\u001B[49m\u001B[43m=\u001B[49m\u001B[43mdoublequote\u001B[49m\u001B[43m,\u001B[49m\n\u001B[32m   4001\u001B[39m \u001B[43m    \u001B[49m\u001B[43mescapechar\u001B[49m\u001B[43m=\u001B[49m\u001B[43mescapechar\u001B[49m\u001B[43m,\u001B[49m\n\u001B[32m   4002\u001B[39m \u001B[43m    \u001B[49m\u001B[43mstorage_options\u001B[49m\u001B[43m=\u001B[49m\u001B[43mstorage_options\u001B[49m\u001B[43m,\u001B[49m\n\u001B[32m   4003\u001B[39m \u001B[43m\u001B[49m\u001B[43m)\u001B[49m\n",
      "\u001B[36mFile \u001B[39m\u001B[32m~\\PycharmProjects\\PythonProject3\\.venv\\Lib\\site-packages\\pandas\\io\\formats\\format.py:1014\u001B[39m, in \u001B[36mDataFrameRenderer.to_csv\u001B[39m\u001B[34m(self, path_or_buf, encoding, sep, columns, index_label, mode, compression, quoting, quotechar, lineterminator, chunksize, date_format, doublequote, escapechar, errors, storage_options)\u001B[39m\n\u001B[32m    993\u001B[39m     created_buffer = \u001B[38;5;28;01mFalse\u001B[39;00m\n\u001B[32m    995\u001B[39m csv_formatter = CSVFormatter(\n\u001B[32m    996\u001B[39m     path_or_buf=path_or_buf,\n\u001B[32m    997\u001B[39m     lineterminator=lineterminator,\n\u001B[32m   (...)\u001B[39m\u001B[32m   1012\u001B[39m     formatter=\u001B[38;5;28mself\u001B[39m.fmt,\n\u001B[32m   1013\u001B[39m )\n\u001B[32m-> \u001B[39m\u001B[32m1014\u001B[39m \u001B[43mcsv_formatter\u001B[49m\u001B[43m.\u001B[49m\u001B[43msave\u001B[49m\u001B[43m(\u001B[49m\u001B[43m)\u001B[49m\n\u001B[32m   1016\u001B[39m \u001B[38;5;28;01mif\u001B[39;00m created_buffer:\n\u001B[32m   1017\u001B[39m     \u001B[38;5;28;01massert\u001B[39;00m \u001B[38;5;28misinstance\u001B[39m(path_or_buf, StringIO)\n",
      "\u001B[36mFile \u001B[39m\u001B[32m~\\PycharmProjects\\PythonProject3\\.venv\\Lib\\site-packages\\pandas\\io\\formats\\csvs.py:270\u001B[39m, in \u001B[36mCSVFormatter.save\u001B[39m\u001B[34m(self)\u001B[39m\n\u001B[32m    251\u001B[39m \u001B[38;5;28;01mwith\u001B[39;00m get_handle(\n\u001B[32m    252\u001B[39m     \u001B[38;5;28mself\u001B[39m.filepath_or_buffer,\n\u001B[32m    253\u001B[39m     \u001B[38;5;28mself\u001B[39m.mode,\n\u001B[32m   (...)\u001B[39m\u001B[32m    258\u001B[39m ) \u001B[38;5;28;01mas\u001B[39;00m handles:\n\u001B[32m    259\u001B[39m     \u001B[38;5;66;03m# Note: self.encoding is irrelevant here\u001B[39;00m\n\u001B[32m    260\u001B[39m     \u001B[38;5;28mself\u001B[39m.writer = csvlib.writer(\n\u001B[32m    261\u001B[39m         handles.handle,\n\u001B[32m    262\u001B[39m         lineterminator=\u001B[38;5;28mself\u001B[39m.lineterminator,\n\u001B[32m   (...)\u001B[39m\u001B[32m    267\u001B[39m         quotechar=\u001B[38;5;28mself\u001B[39m.quotechar,\n\u001B[32m    268\u001B[39m     )\n\u001B[32m--> \u001B[39m\u001B[32m270\u001B[39m     \u001B[38;5;28;43mself\u001B[39;49m\u001B[43m.\u001B[49m\u001B[43m_save\u001B[49m\u001B[43m(\u001B[49m\u001B[43m)\u001B[49m\n",
      "\u001B[36mFile \u001B[39m\u001B[32m~\\PycharmProjects\\PythonProject3\\.venv\\Lib\\site-packages\\pandas\\io\\formats\\csvs.py:275\u001B[39m, in \u001B[36mCSVFormatter._save\u001B[39m\u001B[34m(self)\u001B[39m\n\u001B[32m    273\u001B[39m \u001B[38;5;28;01mif\u001B[39;00m \u001B[38;5;28mself\u001B[39m._need_to_save_header:\n\u001B[32m    274\u001B[39m     \u001B[38;5;28mself\u001B[39m._save_header()\n\u001B[32m--> \u001B[39m\u001B[32m275\u001B[39m \u001B[38;5;28;43mself\u001B[39;49m\u001B[43m.\u001B[49m\u001B[43m_save_body\u001B[49m\u001B[43m(\u001B[49m\u001B[43m)\u001B[49m\n",
      "\u001B[36mFile \u001B[39m\u001B[32m~\\PycharmProjects\\PythonProject3\\.venv\\Lib\\site-packages\\pandas\\io\\formats\\csvs.py:313\u001B[39m, in \u001B[36mCSVFormatter._save_body\u001B[39m\u001B[34m(self)\u001B[39m\n\u001B[32m    311\u001B[39m \u001B[38;5;28;01mif\u001B[39;00m start_i >= end_i:\n\u001B[32m    312\u001B[39m     \u001B[38;5;28;01mbreak\u001B[39;00m\n\u001B[32m--> \u001B[39m\u001B[32m313\u001B[39m \u001B[38;5;28;43mself\u001B[39;49m\u001B[43m.\u001B[49m\u001B[43m_save_chunk\u001B[49m\u001B[43m(\u001B[49m\u001B[43mstart_i\u001B[49m\u001B[43m,\u001B[49m\u001B[43m \u001B[49m\u001B[43mend_i\u001B[49m\u001B[43m)\u001B[49m\n",
      "\u001B[36mFile \u001B[39m\u001B[32m~\\PycharmProjects\\PythonProject3\\.venv\\Lib\\site-packages\\pandas\\io\\formats\\csvs.py:324\u001B[39m, in \u001B[36mCSVFormatter._save_chunk\u001B[39m\u001B[34m(self, start_i, end_i)\u001B[39m\n\u001B[32m    321\u001B[39m data = \u001B[38;5;28mlist\u001B[39m(res._iter_column_arrays())\n\u001B[32m    323\u001B[39m ix = \u001B[38;5;28mself\u001B[39m.data_index[slicer]._get_values_for_csv(**\u001B[38;5;28mself\u001B[39m._number_format)\n\u001B[32m--> \u001B[39m\u001B[32m324\u001B[39m \u001B[43mlibwriters\u001B[49m\u001B[43m.\u001B[49m\u001B[43mwrite_csv_rows\u001B[49m\u001B[43m(\u001B[49m\n\u001B[32m    325\u001B[39m \u001B[43m    \u001B[49m\u001B[43mdata\u001B[49m\u001B[43m,\u001B[49m\n\u001B[32m    326\u001B[39m \u001B[43m    \u001B[49m\u001B[43mix\u001B[49m\u001B[43m,\u001B[49m\n\u001B[32m    327\u001B[39m \u001B[43m    \u001B[49m\u001B[38;5;28;43mself\u001B[39;49m\u001B[43m.\u001B[49m\u001B[43mnlevels\u001B[49m\u001B[43m,\u001B[49m\n\u001B[32m    328\u001B[39m \u001B[43m    \u001B[49m\u001B[38;5;28;43mself\u001B[39;49m\u001B[43m.\u001B[49m\u001B[43mcols\u001B[49m\u001B[43m,\u001B[49m\n\u001B[32m    329\u001B[39m \u001B[43m    \u001B[49m\u001B[38;5;28;43mself\u001B[39;49m\u001B[43m.\u001B[49m\u001B[43mwriter\u001B[49m\u001B[43m,\u001B[49m\n\u001B[32m    330\u001B[39m \u001B[43m\u001B[49m\u001B[43m)\u001B[49m\n",
      "\u001B[36mFile \u001B[39m\u001B[32mpandas/_libs/writers.pyx:73\u001B[39m, in \u001B[36mpandas._libs.writers.write_csv_rows\u001B[39m\u001B[34m()\u001B[39m\n",
      "\u001B[31mOSError\u001B[39m: [Errno 28] No space left on device"
     ]
    }
   ],
   "execution_count": 10
  },
  {
   "metadata": {
    "ExecuteTime": {
     "end_time": "2025-08-21T13:24:54.609815Z",
     "start_time": "2025-08-21T13:23:58.003247Z"
    }
   },
   "cell_type": "code",
   "source": [
    "import pandas as pd\n",
    "import nltk\n",
    "import matplotlib.pyplot as plt\n",
    "\n",
    "bb_posts = pd.read_csv(\"bb_posts_clean_final.csv\")\n",
    "bb_posts_preprocessed = pd.read_csv(\"bb_posts_preprocessed.csv\")\n",
    "\n",
    "# Calculate original token counts (before cleaning)\n",
    "def original_token_count(text):\n",
    "    if pd.isnull(text):\n",
    "        return 0\n",
    "    return len(nltk.word_tokenize(str(text)))\n",
    "\n",
    "bb_posts['original_token_count'] = bb_posts['Post Content'].apply(original_token_count)\n",
    "\n",
    "# After cleaning (from preprocessed file)\n",
    "bb_posts_preprocessed['clean_token_count'] = bb_posts_preprocessed['tokens_lemmatized'].apply(lambda x: len(eval(x)) if isinstance(x, str) else 0)"
   ],
   "id": "57e4446aa17a9a03",
   "outputs": [],
   "execution_count": 1
  },
  {
   "metadata": {
    "ExecuteTime": {
     "end_time": "2025-08-21T13:24:56.630204Z",
     "start_time": "2025-08-21T13:24:56.347128Z"
    }
   },
   "cell_type": "code",
   "source": [
    "plt.figure(figsize=(12,6))\n",
    "plt.hist(bb_posts['original_token_count'], bins=30, alpha=0.6, label='Before Cleaning', color='deepskyblue')\n",
    "plt.hist(bb_posts_preprocessed['clean_token_count'], bins=30, alpha=0.6, label='After Cleaning', color='darkorange')\n",
    "plt.xlabel('Tokens per Post')\n",
    "plt.ylabel('Number of Posts')\n",
    "plt.title('Histogram: Tokens per Post (Before vs After Cleaning)')\n",
    "plt.legend()\n",
    "plt.tight_layout()\n",
    "plt.show()"
   ],
   "id": "82a6b4d920ba629e",
   "outputs": [
    {
     "data": {
      "text/plain": [
       "<Figure size 1200x600 with 1 Axes>"
      ],
      "image/png": "[encoded data removed]"
     },
     "metadata": {},
     "output_type": "display_data"
    }
   ],
   "execution_count": 2
  },
  {
   "metadata": {
    "ExecuteTime": {
     "end_time": "2025-08-21T13:25:56.969979Z",
     "start_time": "2025-08-21T13:25:28.874197Z"
    }
   },
   "cell_type": "code",
   "source": [
    "import pandas as pd\n",
    "import matplotlib.pyplot as plt\n",
    "\n",
    "# Load preprocessed data\n",
    "bb_posts = pd.read_csv(\"bb_posts_preprocessed.csv\")\n",
    "reddit_posts = pd.read_csv(\"reddit_posts_preprocessed.csv\")\n",
    "\n",
    "# If tokens_lemmatized is a string, convert to list\n",
    "def token_count(x):\n",
    "    if isinstance(x, str):\n",
    "        return len(eval(x))\n",
    "    return 0\n",
    "\n",
    "bb_token_counts = bb_posts['tokens_lemmatized'].apply(token_count)\n",
    "reddit_token_counts = reddit_posts['tokens_lemmatized'].apply(token_count)"
   ],
   "id": "6300aefcefbbad47",
   "outputs": [],
   "execution_count": 3
  },
  {
   "metadata": {
    "ExecuteTime": {
     "end_time": "2025-08-21T13:26:04.838132Z",
     "start_time": "2025-08-21T13:26:04.695326Z"
    }
   },
   "cell_type": "code",
   "source": [
    "plt.figure(figsize=(10,6))\n",
    "plt.boxplot([bb_token_counts, reddit_token_counts], labels=['Beyond Blue', 'Reddit'], patch_artist=True,\n",
    "            boxprops=dict(facecolor='skyblue'), medianprops=dict(color='darkblue'))\n",
    "plt.ylabel('Token Count per Post')\n",
    "plt.title('Boxplot of Token Counts per Post: Reddit vs Beyond Blue')\n",
    "plt.tight_layout()\n",
    "plt.show()"
   ],
   "id": "3654ae70f344fe67",
   "outputs": [
    {
     "name": "stderr",
     "output_type": "stream",
     "text": [
      "C:\\Users\\aipro\\AppData\\Local\\Temp\\ipykernel_17664\\1028833802.py:2: MatplotlibDeprecationWarning: The 'labels' parameter of boxplot() has been renamed 'tick_labels' since Matplotlib 3.9; support for the old name will be dropped in 3.11.\n",
      "  plt.boxplot([bb_token_counts, reddit_token_counts], labels=['Beyond Blue', 'Reddit'], patch_artist=True,\n"
     ]
    },
    {
     "data": {
      "text/plain": [
       "<Figure size 1000x600 with 1 Axes>"
      ],
      "image/png": "[encoded data removed]"
     },
     "metadata": {},
     "output_type": "display_data"
    }
   ],
   "execution_count": 4
  },
  {
   "metadata": {
    "ExecuteTime": {
     "end_time": "2025-08-21T13:27:06.052311Z",
     "start_time": "2025-08-21T13:26:53.409644Z"
    }
   },
   "cell_type": "code",
   "source": [
    "from collections import Counter\n",
    "import pandas as pd\n",
    "\n",
    "bb_posts = pd.read_csv(\"bb_posts_preprocessed.csv\")\n",
    "\n",
    "# If tokens_nostop is a string, convert to list\n",
    "def to_tokens(x):\n",
    "    if isinstance(x, str):\n",
    "        return eval(x)\n",
    "    return []\n",
    "\n",
    "# Flatten all tokens from all posts (before lemmatization)\n",
    "tokens_before = bb_posts['tokens_nostop'].apply(to_tokens).explode().dropna().tolist()\n",
    "\n",
    "# Count and display top 20\n",
    "freq_before = Counter(tokens_before).most_common(20)\n",
    "print(\"Top 20 words BEFORE lemmatization:\")\n",
    "for word, count in freq_before:\n",
    "    print(f\"{word}: {count}\")"
   ],
   "id": "3b5630db8c15435c",
   "outputs": [
    {
     "name": "stdout",
     "output_type": "stream",
     "text": [
      "Top 20 words BEFORE lemmatization:\n",
      "like: 43799\n",
      "feel: 41208\n",
      "im: 39097\n",
      "know: 34191\n",
      "dont: 31316\n",
      "time: 29491\n",
      "get: 27582\n",
      "people: 27417\n",
      "would: 27353\n",
      "help: 26240\n",
      "really: 25957\n",
      "one: 23806\n",
      "think: 23626\n",
      "things: 22606\n",
      "also: 22507\n",
      "life: 21737\n",
      "want: 20480\n",
      "much: 19876\n",
      "hi: 19054\n",
      "going: 17382\n"
     ]
    }
   ],
   "execution_count": 5
  },
  {
   "metadata": {
    "ExecuteTime": {
     "end_time": "2025-08-21T13:27:20.222870Z",
     "start_time": "2025-08-21T13:27:10.008472Z"
    }
   },
   "cell_type": "code",
   "source": [
    "# Flatten all tokens from all posts (after lemmatization)\n",
    "tokens_after = bb_posts['tokens_lemmatized'].apply(to_tokens).explode().dropna().tolist()\n",
    "\n",
    "# Count and display top 20\n",
    "freq_after = Counter(tokens_after).most_common(20)\n",
    "print(\"\\nTop 20 words AFTER lemmatization:\")\n",
    "for word, count in freq_after:\n",
    "    print(f\"{word}: {count}\")"
   ],
   "id": "87f6a8ac5cab5497",
   "outputs": [
    {
     "name": "stdout",
     "output_type": "stream",
     "text": [
      "\n",
      "Top 20 words AFTER lemmatization:\n",
      "feel: 45215\n",
      "like: 44184\n",
      "im: 39097\n",
      "time: 37219\n",
      "know: 35650\n",
      "thing: 31962\n",
      "dont: 31316\n",
      "help: 29825\n",
      "get: 29472\n",
      "people: 28263\n",
      "would: 27353\n",
      "one: 26352\n",
      "really: 25957\n",
      "think: 24453\n",
      "life: 23798\n",
      "year: 22951\n",
      "want: 22531\n",
      "also: 22507\n",
      "way: 21551\n",
      "feeling: 21503\n"
     ]
    }
   ],
   "execution_count": 6
  },
  {
   "metadata": {
    "ExecuteTime": {
     "end_time": "2025-08-21T13:27:22.309935Z",
     "start_time": "2025-08-21T13:27:22.298797Z"
    }
   },
   "cell_type": "code",
   "source": [
    "import pandas as pd\n",
    "\n",
    "df_freq_before = pd.DataFrame(freq_before, columns=['Word_Before', 'Count_Before'])\n",
    "df_freq_after = pd.DataFrame(freq_after, columns=['Word_After', 'Count_After'])\n",
    "\n",
    "df_combined = pd.concat([df_freq_before, df_freq_after], axis=1)\n",
    "print(df_combined)"
   ],
   "id": "8921645ff1092ca8",
   "outputs": [
    {
     "name": "stdout",
     "output_type": "stream",
     "text": [
      "   Word_Before  Count_Before Word_After  Count_After\n",
      "0         like         43799       feel        45215\n",
      "1         feel         41208       like        44184\n",
      "2           im         39097         im        39097\n",
      "3         know         34191       time        37219\n",
      "4         dont         31316       know        35650\n",
      "5         time         29491      thing        31962\n",
      "6          get         27582       dont        31316\n",
      "7       people         27417       help        29825\n",
      "8        would         27353        get        29472\n",
      "9         help         26240     people        28263\n",
      "10      really         25957      would        27353\n",
      "11         one         23806        one        26352\n",
      "12       think         23626     really        25957\n",
      "13      things         22606      think        24453\n",
      "14        also         22507       life        23798\n",
      "15        life         21737       year        22951\n",
      "16        want         20480       want        22531\n",
      "17        much         19876       also        22507\n",
      "18          hi         19054        way        21551\n",
      "19       going         17382    feeling        21503\n"
     ]
    }
   ],
   "execution_count": 7
  },
  {
   "metadata": {
    "ExecuteTime": {
     "end_time": "2025-08-21T13:27:59.562418Z",
     "start_time": "2025-08-21T13:27:39.508580Z"
    }
   },
   "cell_type": "code",
   "source": [
    "import pandas as pd\n",
    "import matplotlib.pyplot as plt\n",
    "\n",
    "bb_posts = pd.read_csv(\"bb_posts_preprocessed.csv\")\n",
    "\n",
    "def to_tokens(x):\n",
    "    if isinstance(x, str):\n",
    "        return eval(x)\n",
    "    return []\n",
    "\n",
    "# Get all tokens (flattened list)\n",
    "tokens_before = bb_posts['tokens_nostop'].apply(to_tokens).explode().dropna().tolist()\n",
    "tokens_after = bb_posts['tokens_lemmatized'].apply(to_tokens).explode().dropna().tolist()\n",
    "\n",
    "vocab_size_before = len(set(tokens_before))\n",
    "vocab_size_after = len(set(tokens_after))\n",
    "\n",
    "print(f\"Vocabulary size BEFORE lemmatization: {vocab_size_before}\")\n",
    "print(f\"Vocabulary size AFTER lemmatization: {vocab_size_after}\")"
   ],
   "id": "46885150713e4c4c",
   "outputs": [
    {
     "name": "stdout",
     "output_type": "stream",
     "text": [
      "Vocabulary size BEFORE lemmatization: 188859\n",
      "Vocabulary size AFTER lemmatization: 183635\n"
     ]
    }
   ],
   "execution_count": 8
  },
  {
   "metadata": {
    "ExecuteTime": {
     "end_time": "2025-08-21T13:28:04.387309Z",
     "start_time": "2025-08-21T13:28:04.239603Z"
    }
   },
   "cell_type": "code",
   "source": [
    "plt.figure(figsize=(6,5))\n",
    "plt.bar(['Before Lemmatization', 'After Lemmatization'], [vocab_size_before, vocab_size_after],\n",
    "        color=['deepskyblue', 'darkorange'])\n",
    "plt.ylabel('Vocabulary Size (Unique Words)')\n",
    "plt.title('Vocabulary Size: Before vs After Lemmatization')\n",
    "plt.tight_layout()\n",
    "plt.show()"
   ],
   "id": "9db2e394a440b7d3",
   "outputs": [
    {
     "data": {
      "text/plain": [
       "<Figure size 600x500 with 1 Axes>"
      ],
      "image/png": "[encoded data removed]"
     },
     "metadata": {},
     "output_type": "display_data"
    }
   ],
   "execution_count": 9
  }
 ],
 "metadata": {
  "kernelspec": {
   "display_name": "Python 3",
   "language": "python",
   "name": "python3"
  },
  "language_info": {
   "codemirror_mode": {
    "name": "ipython",
    "version": 2
   },
   "file_extension": ".py",
   "mimetype": "text/x-python",
   "name": "python",
   "nbconvert_exporter": "python",
   "pygments_lexer": "ipython2",
   "version": "2.7.6"
  }
 },
 "nbformat": 4,
 "nbformat_minor": 5
}
